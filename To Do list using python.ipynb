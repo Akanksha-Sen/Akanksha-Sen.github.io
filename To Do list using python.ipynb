{
 "cells": [
  {
   "cell_type": "code",
   "execution_count": 1,
   "id": "4b5de196",
   "metadata": {},
   "outputs": [],
   "source": [
    "#tkinter: library to make gui app \n",
    "import tkinter\n",
    "#imported tkinter module\n",
    "import pickle"
   ]
  },
  {
   "cell_type": "code",
   "execution_count": 2,
   "id": "2d393816",
   "metadata": {},
   "outputs": [],
   "source": [
    "import tkinter.messagebox\n"
   ]
  },
  {
   "cell_type": "code",
   "execution_count": 3,
   "id": "dbe9cff8",
   "metadata": {},
   "outputs": [],
   "source": [
    "#storing tkinter window in a variable named window\n",
    "window = tkinter.Tk()"
   ]
  },
  {
   "cell_type": "code",
   "execution_count": 4,
   "id": "8d2223ff",
   "metadata": {},
   "outputs": [
    {
     "data": {
      "text/plain": [
       "''"
      ]
     },
     "execution_count": 4,
     "metadata": {},
     "output_type": "execute_result"
    }
   ],
   "source": [
    "window.title(\"My to do list\")"
   ]
  },
  {
   "cell_type": "code",
   "execution_count": 5,
   "id": "9b874b2d",
   "metadata": {},
   "outputs": [],
   "source": [
    "#writing function to add tasks\n",
    "def task_adding():\n",
    "    todo = task_add.get()\n",
    "    if todo != \" \":\n",
    "        todo_box.insert(tkinter.END,todo)\n",
    "        task_add.delete(0,tkinter.END)\n",
    "    else:\n",
    "        tkinter.messagebox.showwarning(title=\"Attention!!\", message=  \"To add a task please enter some task\")\n",
    "        \n",
    "        "
   ]
  },
  {
   "cell_type": "code",
   "execution_count": 6,
   "id": "604bb5ab",
   "metadata": {},
   "outputs": [],
   "source": [
    "#writing function to remove tasks\n",
    "def task_removing():\n",
    "    try:\n",
    "        index_todo = list_frame.curselection()[0]\n",
    "        list_frame.delete(index_todo)\n",
    "        \n",
    "        \n",
    "    except:\n",
    "        tkinter.messagebox.showwarning(title=\"attention!!\",message=\"To delete a task you must select a task\")"
   ]
  },
  {
   "cell_type": "code",
   "execution_count": 7,
   "id": "074ddbac",
   "metadata": {},
   "outputs": [],
   "source": [
    "#creating function for saving tasks\n",
    "def task_save():\n",
    "    todo_list = list_frame.get(0,list_frame.size())\n",
    "    pickle.dump(todo_list, open(\"tasks.dat\",\"wb\"))"
   ]
  },
  {
   "cell_type": "code",
   "execution_count": 8,
   "id": "2223a0ad",
   "metadata": {},
   "outputs": [],
   "source": [
    "#button for saving tasks\n",
    "save_task_button = tkinter.Button(window,text=\"Click to Save task\", font=(\"arial\",20,\"bold\"),background=\"blue\",width=40,command=task_save)\n",
    "save_task_button.pack()                             "
   ]
  },
  {
   "cell_type": "code",
   "execution_count": 9,
   "id": "7bcb0166",
   "metadata": {},
   "outputs": [],
   "source": [
    "#writing function for task loading\n",
    "def task_loading():\n",
    "    try:\n",
    "        todo_task = pickle.load(open(\"tasks.dat\",\"rb\"))\n",
    "        list_frame.delete(0,tkinter,END)\n",
    "        for todo in tasks:\n",
    "            list_frame.insert(tkinter.END, todo)\n",
    "            \n",
    "    except:\n",
    "         tkinter.messagebox.showwarning(title=\"attention!!\",message=\"cannot find task.dat\")\n",
    "        "
   ]
  },
  {
   "cell_type": "code",
   "execution_count": null,
   "id": "fdc11f7c",
   "metadata": {},
   "outputs": [],
   "source": []
  },
  {
   "cell_type": "code",
   "execution_count": 10,
   "id": "8b09e1f1",
   "metadata": {},
   "outputs": [],
   "source": [
    "#creating to store the entire to do list\n",
    "list_frame = tkinter.Frame(window)\n",
    "list_frame.pack() \n",
    "#pack is ued to apply all the written things on tkinter window"
   ]
  },
  {
   "cell_type": "code",
   "execution_count": 11,
   "id": "ed1bd7e6",
   "metadata": {},
   "outputs": [],
   "source": [
    "todo_box = tkinter.Listbox(list_frame, height=20, width=50)\n",
    "todo_box.pack(side=tkinter.LEFT)"
   ]
  },
  {
   "cell_type": "code",
   "execution_count": 12,
   "id": "f020b279",
   "metadata": {},
   "outputs": [],
   "source": [
    "scroller = tkinter.Scrollbar(list_frame) #inserting a scroll bar\n",
    "scroller.pack(side=tkinter.RIGHT,fill=tkinter.Y)"
   ]
  },
  {
   "cell_type": "code",
   "execution_count": 13,
   "id": "9c2998db",
   "metadata": {},
   "outputs": [],
   "source": [
    "#setting the scroller\n",
    "todo_box.config(yscrollcommand=scroller.set)\n",
    "#scroller.config(command=list_frame.yview)"
   ]
  },
  {
   "cell_type": "code",
   "execution_count": 14,
   "id": "fb60c807",
   "metadata": {},
   "outputs": [],
   "source": [
    "#making function to enter tasks\n",
    "task_add = tkinter.Entry(window,width=70)\n",
    "task_add.pack()\n",
    "\n",
    "add_task_button = tkinter.Button(window, text=\"Add task\", font=(\"arial\",20,\"bold\"),background=\"red\",width=40,command = task_adding)\n",
    "add_task_button.pack()\n",
    "\n",
    "remove_task_button = tkinter.Button(window, text=\"Delete Task\" , font=(\"arial\",20,\"bold\"),background=\"yellow\",width=40,command = task_removing)\n",
    "remove_task_button.pack()"
   ]
  },
  {
   "cell_type": "code",
   "execution_count": 15,
   "id": "75bf5842",
   "metadata": {},
   "outputs": [],
   "source": [
    "load_task_button = tkinter.Button(window, text=\"click to load task\" , font=(\"arial\",20,\"bold\"),background=\"green\",width=40,command = task_loading)\n",
    "load_task_button.pack()"
   ]
  }
 ],
 "metadata": {
  "kernelspec": {
   "display_name": "Python 3 (ipykernel)",
   "language": "python",
   "name": "python3"
  },
  "language_info": {
   "codemirror_mode": {
    "name": "ipython",
    "version": 3
   },
   "file_extension": ".py",
   "mimetype": "text/x-python",
   "name": "python",
   "nbconvert_exporter": "python",
   "pygments_lexer": "ipython3",
   "version": "3.10.5"
  }
 },
 "nbformat": 4,
 "nbformat_minor": 5
}
